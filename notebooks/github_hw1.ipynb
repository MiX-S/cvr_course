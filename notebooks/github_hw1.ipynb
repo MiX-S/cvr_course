{
 "cells": [
  {
   "cell_type": "markdown",
   "metadata": {},
   "source": [
    "# Домашнее задание\n",
    "Домашнее задание выполнять в этой тетрадке. \n",
    "\n",
    "- [ ] Сделать fork репозитория cvr_cource (https://github.com/StarkitRobots/cvr_course) - 1 балл\n",
    "- [ ] Создать ветку update_readme - 1 балл\n",
    "- [ ] Добавить одну строчку в README.md \n",
    "- [ ] Запушить (git push) изменения в ветку update_readme - 3 балла\n",
    "- [ ] Слить (merge) ветку update_readme в ветку develop - 1 балл\n",
    "- [ ] Сохранить эту тетрадку с выполненной домашкой себе в репозиторий в ветку develop - 3 балла\n",
    "- [ ] Слить (merge) ветку develop в ветку main - 1 балл"
   ]
  },
  {
   "cell_type": "markdown",
   "metadata": {},
   "source": [
    "Материалы к семинару:\n",
    "1. [Удачная модель ветвления](https://m.habr.com/ru/post/106912/)\n",
    "2. [Зачем нужен Git](https://guides.hexlet.io/git-guide/)\n",
    "3. [Самые популярные ошибки и их решения](https://tproger.ru/translations/most-common-git-screwupsquestions-and-solutions/)\n",
    "4. [Ветвление](https://git-scm.com/book/ru/v2/%D0%92%D0%B5%D1%82%D0%B2%D0%BB%D0%B5%D0%BD%D0%B8%D0%B5-%D0%B2-Git-%D0%9E-%D0%B2%D0%B5%D1%82%D0%B2%D0%BB%D0%B5%D0%BD%D0%B8%D0%B8-%D0%B2-%D0%B4%D0%B2%D1%83%D1%85-%D1%81%D0%BB%D0%BE%D0%B2%D0%B0%D1%85)\n",
    "5. [Инструкция по всему Git](https://git-scm.com/book/ru/v2)\n",
    "6. [Приложение для обучения Git](https://learngitbranching.js.org/?locale=ru_RU), спасибо Анне Касаткиной за ссылку на отличный материал"
   ]
  },
  {
   "cell_type": "code",
   "execution_count": 2,
   "metadata": {
    "ExecuteTime": {
     "end_time": "2022-03-01T17:03:31.196350Z",
     "start_time": "2022-03-01T17:03:31.193461Z"
    }
   },
   "outputs": [],
   "source": [
    "# Создать ветку update_readme\n",
    "\n",
    "!git checkout -b update_readme"
   ]
  },
  {
   "cell_type": "code",
   "execution_count": 5,
   "metadata": {
    "ExecuteTime": {
     "end_time": "2022-03-01T17:05:02.527160Z",
     "start_time": "2022-03-01T17:05:02.398598Z"
    }
   },
   "outputs": [
    {
     "name": "stdout",
     "output_type": "stream",
     "text": [
      "# Computer Vision in Robotics\r\n",
      "\r\n",
      "<img src=\"./.img/logo_for_form.png\" height=\"350\" />\r\n",
      "\r\n",
      "\r\n",
      "Visit our site <https://www.starkitrobots.com/cvr> to check content.\r\n",
      "Course is online and will be carried out on our *[YouTube chanel](https://www.youtube.com/channel/UC0QPJgfg17wCqf4-hG_A5OA)*.\r\n",
      "\r\n",
      "Hello, new branch!\r\n"
     ]
    }
   ],
   "source": [
    "# Добавить одну строчку в README.md\n",
    "\n",
    "!cat ../README.md"
   ]
  },
  {
   "cell_type": "code",
   "execution_count": null,
   "metadata": {},
   "outputs": [],
   "source": [
    "# Запушить (git push) изменения в ветку update_readme\n",
    "\n",
    "!git add README.md\n",
    "!git commit -m 'upd readme'\n",
    "!git push --set-upstream origin update_readme"
   ]
  },
  {
   "cell_type": "code",
   "execution_count": null,
   "metadata": {},
   "outputs": [],
   "source": [
    "# Слить (merge) ветку update_readme в ветку develop\n",
    "\n",
    "!git checkout -b develop origin/develop\n",
    "!git merge update_readme"
   ]
  },
  {
   "cell_type": "code",
   "execution_count": 13,
   "metadata": {
    "ExecuteTime": {
     "end_time": "2022-03-01T17:14:05.544913Z",
     "start_time": "2022-03-01T17:14:05.283335Z"
    }
   },
   "outputs": [
    {
     "name": "stdout",
     "output_type": "stream",
     "text": [
      "[develop 496ad50] add github_hw1.ipynb\r\n",
      " 1 file changed, 272 insertions(+), 1 deletion(-)\r\n"
     ]
    }
   ],
   "source": [
    "# Сохранить эту тетрадку с выполненной домашкой себе в репозиторий в ветку develop - 3 балла\n",
    "\n",
    "!git add github_hw1.ipynb\n",
    "!git commit -m 'add github_hw1.ipynb'"
   ]
  },
  {
   "cell_type": "code",
   "execution_count": 16,
   "metadata": {
    "ExecuteTime": {
     "end_time": "2022-03-01T17:17:35.767087Z",
     "start_time": "2022-03-01T17:17:35.760149Z"
    }
   },
   "outputs": [],
   "source": [
    "# Слить (merge) ветку develop в ветку main\n",
    "\n",
    "# !git checkout main\n",
    "# !git merge develop"
   ]
  },
  {
   "cell_type": "code",
   "execution_count": null,
   "metadata": {},
   "outputs": [],
   "source": []
  },
  {
   "cell_type": "code",
   "execution_count": null,
   "metadata": {},
   "outputs": [],
   "source": []
  },
  {
   "cell_type": "code",
   "execution_count": null,
   "metadata": {},
   "outputs": [],
   "source": []
  }
 ],
 "metadata": {
  "kernelspec": {
   "display_name": "Python 3",
   "language": "python",
   "name": "python3"
  },
  "language_info": {
   "codemirror_mode": {
    "name": "ipython",
    "version": 3
   },
   "file_extension": ".py",
   "mimetype": "text/x-python",
   "name": "python",
   "nbconvert_exporter": "python",
   "pygments_lexer": "ipython3",
   "version": "3.8.3"
  },
  "toc": {
   "base_numbering": 1,
   "nav_menu": {},
   "number_sections": true,
   "sideBar": true,
   "skip_h1_title": false,
   "title_cell": "Table of Contents",
   "title_sidebar": "Contents",
   "toc_cell": false,
   "toc_position": {},
   "toc_section_display": true,
   "toc_window_display": false
  }
 },
 "nbformat": 4,
 "nbformat_minor": 4
}
